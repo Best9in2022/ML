{
 "cells": [
  {
   "cell_type": "code",
   "execution_count": 1,
   "id": "level-yukon",
   "metadata": {},
   "outputs": [
    {
     "name": "stderr",
     "output_type": "stream",
     "text": [
      "Using TensorFlow backend.\n",
      "C:\\Users\\ersac\\AppData\\Local\\conda\\conda\\envs\\tensorflow\\lib\\site-packages\\tensorflow\\python\\framework\\dtypes.py:516: FutureWarning: Passing (type, 1) or '1type' as a synonym of type is deprecated; in a future version of numpy, it will be understood as (type, (1,)) / '(1,)type'.\n",
      "  _np_qint8 = np.dtype([(\"qint8\", np.int8, 1)])\n",
      "C:\\Users\\ersac\\AppData\\Local\\conda\\conda\\envs\\tensorflow\\lib\\site-packages\\tensorflow\\python\\framework\\dtypes.py:517: FutureWarning: Passing (type, 1) or '1type' as a synonym of type is deprecated; in a future version of numpy, it will be understood as (type, (1,)) / '(1,)type'.\n",
      "  _np_quint8 = np.dtype([(\"quint8\", np.uint8, 1)])\n",
      "C:\\Users\\ersac\\AppData\\Local\\conda\\conda\\envs\\tensorflow\\lib\\site-packages\\tensorflow\\python\\framework\\dtypes.py:518: FutureWarning: Passing (type, 1) or '1type' as a synonym of type is deprecated; in a future version of numpy, it will be understood as (type, (1,)) / '(1,)type'.\n",
      "  _np_qint16 = np.dtype([(\"qint16\", np.int16, 1)])\n",
      "C:\\Users\\ersac\\AppData\\Local\\conda\\conda\\envs\\tensorflow\\lib\\site-packages\\tensorflow\\python\\framework\\dtypes.py:519: FutureWarning: Passing (type, 1) or '1type' as a synonym of type is deprecated; in a future version of numpy, it will be understood as (type, (1,)) / '(1,)type'.\n",
      "  _np_quint16 = np.dtype([(\"quint16\", np.uint16, 1)])\n",
      "C:\\Users\\ersac\\AppData\\Local\\conda\\conda\\envs\\tensorflow\\lib\\site-packages\\tensorflow\\python\\framework\\dtypes.py:520: FutureWarning: Passing (type, 1) or '1type' as a synonym of type is deprecated; in a future version of numpy, it will be understood as (type, (1,)) / '(1,)type'.\n",
      "  _np_qint32 = np.dtype([(\"qint32\", np.int32, 1)])\n",
      "C:\\Users\\ersac\\AppData\\Local\\conda\\conda\\envs\\tensorflow\\lib\\site-packages\\tensorflow\\python\\framework\\dtypes.py:525: FutureWarning: Passing (type, 1) or '1type' as a synonym of type is deprecated; in a future version of numpy, it will be understood as (type, (1,)) / '(1,)type'.\n",
      "  np_resource = np.dtype([(\"resource\", np.ubyte, 1)])\n",
      "C:\\Users\\ersac\\AppData\\Local\\conda\\conda\\envs\\tensorflow\\lib\\site-packages\\tensorboard\\compat\\tensorflow_stub\\dtypes.py:541: FutureWarning: Passing (type, 1) or '1type' as a synonym of type is deprecated; in a future version of numpy, it will be understood as (type, (1,)) / '(1,)type'.\n",
      "  _np_qint8 = np.dtype([(\"qint8\", np.int8, 1)])\n",
      "C:\\Users\\ersac\\AppData\\Local\\conda\\conda\\envs\\tensorflow\\lib\\site-packages\\tensorboard\\compat\\tensorflow_stub\\dtypes.py:542: FutureWarning: Passing (type, 1) or '1type' as a synonym of type is deprecated; in a future version of numpy, it will be understood as (type, (1,)) / '(1,)type'.\n",
      "  _np_quint8 = np.dtype([(\"quint8\", np.uint8, 1)])\n",
      "C:\\Users\\ersac\\AppData\\Local\\conda\\conda\\envs\\tensorflow\\lib\\site-packages\\tensorboard\\compat\\tensorflow_stub\\dtypes.py:543: FutureWarning: Passing (type, 1) or '1type' as a synonym of type is deprecated; in a future version of numpy, it will be understood as (type, (1,)) / '(1,)type'.\n",
      "  _np_qint16 = np.dtype([(\"qint16\", np.int16, 1)])\n",
      "C:\\Users\\ersac\\AppData\\Local\\conda\\conda\\envs\\tensorflow\\lib\\site-packages\\tensorboard\\compat\\tensorflow_stub\\dtypes.py:544: FutureWarning: Passing (type, 1) or '1type' as a synonym of type is deprecated; in a future version of numpy, it will be understood as (type, (1,)) / '(1,)type'.\n",
      "  _np_quint16 = np.dtype([(\"quint16\", np.uint16, 1)])\n",
      "C:\\Users\\ersac\\AppData\\Local\\conda\\conda\\envs\\tensorflow\\lib\\site-packages\\tensorboard\\compat\\tensorflow_stub\\dtypes.py:545: FutureWarning: Passing (type, 1) or '1type' as a synonym of type is deprecated; in a future version of numpy, it will be understood as (type, (1,)) / '(1,)type'.\n",
      "  _np_qint32 = np.dtype([(\"qint32\", np.int32, 1)])\n",
      "C:\\Users\\ersac\\AppData\\Local\\conda\\conda\\envs\\tensorflow\\lib\\site-packages\\tensorboard\\compat\\tensorflow_stub\\dtypes.py:550: FutureWarning: Passing (type, 1) or '1type' as a synonym of type is deprecated; in a future version of numpy, it will be understood as (type, (1,)) / '(1,)type'.\n",
      "  np_resource = np.dtype([(\"resource\", np.ubyte, 1)])\n"
     ]
    }
   ],
   "source": [
    "import numpy as np\n",
    "import w2v_utils"
   ]
  },
  {
   "cell_type": "code",
   "execution_count": 3,
   "id": "victorian-complex",
   "metadata": {},
   "outputs": [],
   "source": [
    "words, word_to_vec_map = w2v_utils.read_glove_vecs('data/glove.6B.50d.txt')"
   ]
  },
  {
   "cell_type": "code",
   "execution_count": 4,
   "id": "better-insert",
   "metadata": {},
   "outputs": [
    {
     "name": "stdout",
     "output_type": "stream",
     "text": [
      "[-0.38497   0.80092   0.064106 -0.28355  -0.026759 -0.34532  -0.64253\n",
      " -0.11729  -0.33257   0.55243  -0.087813  0.9035    0.47102   0.56657\n",
      "  0.6985   -0.35229  -0.86542   0.90573   0.03576  -0.071705 -0.12327\n",
      "  0.54923   0.47005   0.35572   1.2611   -0.67581  -0.94983   0.68666\n",
      "  0.3871   -1.3492    0.63512   0.46416  -0.48814   0.83827  -0.9246\n",
      " -0.33722   0.53741  -1.0616   -0.081403 -0.67111   0.30923  -0.3923\n",
      " -0.55002  -0.68827   0.58049  -0.11626   0.013139 -0.57654   0.048833\n",
      "  0.67204 ]\n"
     ]
    }
   ],
   "source": [
    "print(word_to_vec_map[\"hello\"])"
   ]
  },
  {
   "cell_type": "code",
   "execution_count": 14,
   "id": "casual-experience",
   "metadata": {},
   "outputs": [],
   "source": [
    "def cosine_similarity(u, v):\n",
    "    \"\"\"\n",
    "    u与v的余弦相似度反映了u与v的相似程度\n",
    "    \n",
    "    参数：\n",
    "        u -- 维度为(n,)的词向量\n",
    "        v -- 维度为(n,)的词向量\n",
    "        \n",
    "    返回：\n",
    "        cosine_similarity -- 由上面公式定义的u和v之间的余弦相似度。\n",
    "    \"\"\"\n",
    "    \n",
    "    distance = 0\n",
    "    \n",
    "    #计算u和v的内积\n",
    "    dot = np.dot(u,v)\n",
    "    \n",
    "    #计算u和v的L2范数\n",
    "    norm_u = np.sum(np.power(u,2))\n",
    "    norm_v = np.sum(np.power(v,2))\n",
    "    \n",
    "    #计算余弦相似度\n",
    "    cosine_similarity = np.divide(dot, norm_u * norm_v)\n",
    "    \n",
    "    return cosine_similarity"
   ]
  },
  {
   "cell_type": "code",
   "execution_count": 24,
   "id": "geological-yeast",
   "metadata": {},
   "outputs": [
    {
     "name": "stdout",
     "output_type": "stream",
     "text": [
      "man -> woman <====> boy -> girl\n",
      "woman -> lady <====> man -> hero\n"
     ]
    }
   ],
   "source": [
    "def complete_analogy(word_a, word_b, word_c, word_to_vec_map):\n",
    "    \"\"\"\n",
    "    解决“A与B相比就类似于C与____相比一样”之类的问题\n",
    "    \n",
    "    参数：\n",
    "        word_a -- 一个字符串类型的词\n",
    "        word_b -- 一个字符串类型的词\n",
    "        word_c -- 一个字符串类型的词\n",
    "        word_to_vec_map -- 字典类型，单词到GloVe向量的映射\n",
    "        \n",
    "    返回：\n",
    "        best_word -- 满足(v_b - v_a) 最接近 (v_best_word - v_c) 的词\n",
    "    \"\"\"\n",
    "    # 把单词转化为小写\n",
    "    word_a, word_b, word_c = word_a.lower(), word_b.lower(), word_c.lower()\n",
    "    \n",
    "    # 获取对应的词向量\n",
    "    e_a, e_b, e_c = word_to_vec_map[word_a], word_to_vec_map[word_b], word_to_vec_map[word_c]\n",
    "    \n",
    "    # 获取全部的单词\n",
    "    words = word_to_vec_map.keys()\n",
    "    \n",
    "    # 初始化返回结果以及最大相似度\n",
    "    max_cosine_sim = -100   #负的表示不相似！\n",
    "    best_word = None\n",
    "    \n",
    "    # 遍历整个数据集\n",
    "    for word in words:\n",
    "        #避免输入与a, b, c相同,直接用in,不需要用&来链接\n",
    "        if word in [word_a, word_b, word_c]:\n",
    "            continue\n",
    "        #计算余弦相似度\n",
    "        cosine_sim = cosine_similarity((e_b - e_a), (word_to_vec_map[word] - e_c))\n",
    "        if cosine_sim > max_cosine_sim:\n",
    "            max_cosine_sim = cosine_sim\n",
    "            best_word = word\n",
    "    \n",
    "    return best_word\n",
    "\n",
    "#test\n",
    "# triads_to_try = [('man', 'woman', 'boy'), ('woman', 'lady', 'man')]\n",
    "# for triad in triads_to_try:\n",
    "#     print ('{} -> {} <====> {} -> {}'.format( *triad, complete_analogy(*triad,word_to_vec_map)))"
   ]
  },
  {
   "cell_type": "code",
   "execution_count": 30,
   "id": "australian-tumor",
   "metadata": {},
   "outputs": [
    {
     "name": "stdout",
     "output_type": "stream",
     "text": [
      "john -0.016800730214585467\n",
      "marie 0.024098078106537555\n",
      "sophie 0.02731199244627816\n",
      "ronaldo -0.022022605843048933\n",
      "priya 0.015749098024991352\n",
      "rahul -0.011541309006640783\n",
      "danielle 0.02416764032741436\n",
      "reza -0.005241910012713834\n",
      "katy 0.027125736228497954\n",
      "yasmin 0.022861442978000635\n",
      "lipstick 0.0226663488874904\n",
      "guns -0.013103832855035297\n",
      "science -0.004090750016993134\n",
      "arts 0.0005567711918563948\n",
      "literature 0.004322773787034191\n",
      "warrior -0.01776816960750761\n",
      "doctor 0.009319399857769748\n",
      "tree -0.0051930395106643485\n",
      "receptionist 0.032846230526457805\n",
      "technology -0.008768923459878022\n",
      "fashion 0.002836788317915961\n",
      "teacher 0.013462721812913024\n",
      "engineer -0.0062073275632247675\n",
      "pilot 8.841838005265831e-05\n",
      "computer -0.006667439400048752\n",
      "singer 0.012410491003186386\n"
     ]
    }
   ],
   "source": [
    "#1st step: 计算bias_axis\n",
    "g = word_to_vec_map[\"woman\"] - word_to_vec_map[\"man\"]\n",
    "\n",
    "name_list = ['john', 'marie', 'sophie', 'ronaldo', 'priya', 'rahul', 'danielle', 'reza', 'katy', 'yasmin']\n",
    "\n",
    "for w in name_list:\n",
    "    print (w, cosine_similarity(word_to_vec_map[w], g))\n",
    "    \n",
    "word_list = ['lipstick', 'guns', 'science', 'arts', 'literature', 'warrior','doctor', 'tree', 'receptionist', \n",
    "             'technology',  'fashion', 'teacher', 'engineer', 'pilot', 'computer', 'singer']\n",
    "for w in word_list:\n",
    "    print (w, cosine_similarity(word_to_vec_map[w], g))"
   ]
  },
  {
   "cell_type": "code",
   "execution_count": 31,
   "id": "suitable-kinase",
   "metadata": {},
   "outputs": [
    {
     "name": "stdout",
     "output_type": "stream",
     "text": [
      "去偏差前receptionist与g的余弦相似度为：0.032846230526457805\n",
      "去偏差后receptionist与g的余弦相似度为：-2.2157998838784524e-18\n"
     ]
    }
   ],
   "source": [
    "#2nd step: neutralize\n",
    "def neutralize(word, g, word_to_vec_map):\n",
    "    \"\"\"\n",
    "    通过将“word”投影到与偏置轴正交的空间上，消除了“word”的偏差。\n",
    "    该函数确保“word”在性别的子空间中的值为0\n",
    "    \n",
    "    参数：\n",
    "        word -- 待消除偏差的字符串\n",
    "        g -- 维度为(50,)，对应于偏置轴（如性别）\n",
    "        word_to_vec_map -- 字典类型，单词到GloVe向量的映射\n",
    "        \n",
    "    返回：\n",
    "        e_debiased -- 消除了偏差的向量。\n",
    "    \"\"\"\n",
    "    # 根据word选择词向量\n",
    "    e = word_to_vec_map[word]\n",
    "    \n",
    "    # 计算e_biascomponent,即e在g方向上的投影\n",
    "    e_biascomponent = np.divide(np.dot(e,g), np.square(np.linalg.norm(g))) * g\n",
    "    \n",
    "    # 计算e_debiased, namely与g正交方向上的向量\n",
    "    e_debiased = e - e_biascomponent\n",
    "    \n",
    "    return e_debiased\n",
    "\n",
    "#test\n",
    "e = \"receptionist\"\n",
    "print(\"去偏差前{0}与g的余弦相似度为：{1}\".format(e, cosine_similarity(word_to_vec_map[\"receptionist\"], g)))\n",
    "\n",
    "e_debiased = neutralize(\"receptionist\", g, word_to_vec_map)\n",
    "print(\"去偏差后{0}与g的余弦相似度为：{1}\".format(e, cosine_similarity(e_debiased, g)))"
   ]
  },
  {
   "cell_type": "code",
   "execution_count": 36,
   "id": "prescription-poultry",
   "metadata": {},
   "outputs": [
    {
     "name": "stdout",
     "output_type": "stream",
     "text": [
      "==========均衡校正前==========\n",
      "cosine_similarity(word_to_vec_map[\"man\"], gender) =  -0.00857991413569445\n",
      "cosine_similarity(word_to_vec_map[\"woman\"], gender) =  0.02458107205945114\n",
      "\n",
      "==========均衡校正后==========\n",
      "cosine_similarity(e1, gender) =  -0.007422937523106455\n",
      "cosine_similarity(e2, gender) =  0.007908954500653957\n"
     ]
    }
   ],
   "source": [
    "#3rd step: equalize\n",
    "def equalize(pair, bias_axis, word_to_vec_map):\n",
    "    \"\"\"\n",
    "    通过遵循上图中所描述的均衡方法来消除性别偏差。\n",
    "    \n",
    "    参数：\n",
    "        pair -- 要消除性别偏差的词组，比如 (\"actress\", \"actor\") \n",
    "        bias_axis -- 维度为(50,)，对应于偏置轴（如性别）\n",
    "        word_to_vec_map -- 字典类型，单词到GloVe向量的映射\n",
    "    \n",
    "    返回：\n",
    "        e_1 -- 第一个词的词向量\n",
    "        e_2 -- 第二个词的词向量\n",
    "    \"\"\"\n",
    "    # 第1步：获取词向量\n",
    "    w1, w2 = pair\n",
    "    e_w1, e_w2 = word_to_vec_map[w1], word_to_vec_map[w2]\n",
    "    \n",
    "    # 第2步：计算w1与w2的均值\n",
    "    mu = (e_w1 + e_w2) / 2.0\n",
    "    \n",
    "    # 第3步：计算mu在偏置轴与正交轴上的投影\n",
    "    mu_B = np.divide(np.dot(mu, bias_axis), np.square(np.linalg.norm(bias_axis))) * bias_axis\n",
    "    mu_orth = mu - mu_B\n",
    "    \n",
    "    # 第4步：使用公式7、8计算e_w1B 与 e_w2B\n",
    "    e_w1B = np.divide(np.dot(e_w1, bias_axis), np.square(np.linalg.norm(bias_axis))) * bias_axis\n",
    "    e_w2B = np.divide(np.dot(e_w2, bias_axis), np.square(np.linalg.norm(bias_axis))) * bias_axis\n",
    "    \n",
    "    # 第5步：根据公式9、10调整e_w1B 与 e_w2B的偏置部分\n",
    "    corrected_e_w1B = np.sqrt(np.abs(1-np.square(np.linalg.norm(mu_orth)))) * np.divide(e_w1B-mu_B, np.abs(e_w1 - mu_orth - mu_B))\n",
    "    corrected_e_w2B = np.sqrt(np.abs(1-np.square(np.linalg.norm(mu_orth)))) * np.divide(e_w2B-mu_B, np.abs(e_w2 - mu_orth - mu_B))\n",
    "    \n",
    "    # 第6步： 使e1和e2等于它们修正后的投影之和，从而消除偏差\n",
    "    e1 = corrected_e_w1B + mu_orth\n",
    "    e2 = corrected_e_w2B + mu_orth\n",
    "    \n",
    "    return e1, e2\n",
    "\n",
    "#test\n",
    "g = word_to_vec_map['woman'] - word_to_vec_map['man']\n",
    "print(\"==========均衡校正前==========\")\n",
    "print(\"cosine_similarity(word_to_vec_map[\\\"man\\\"], gender) = \", cosine_similarity(word_to_vec_map[\"man\"], g))\n",
    "print(\"cosine_similarity(word_to_vec_map[\\\"woman\\\"], gender) = \", cosine_similarity(word_to_vec_map[\"woman\"], g))\n",
    "e1, e2 = equalize((\"man\", \"woman\"), g, word_to_vec_map)\n",
    "print(\"\\n==========均衡校正后==========\")\n",
    "print(\"cosine_similarity(e1, gender) = \", cosine_similarity(e1, g))\n",
    "print(\"cosine_similarity(e2, gender) = \", cosine_similarity(e2, g))"
   ]
  },
  {
   "cell_type": "code",
   "execution_count": null,
   "id": "treated-intermediate",
   "metadata": {},
   "outputs": [],
   "source": []
  }
 ],
 "metadata": {
  "kernelspec": {
   "display_name": "Python 3",
   "language": "python",
   "name": "python3"
  },
  "language_info": {
   "codemirror_mode": {
    "name": "ipython",
    "version": 3
   },
   "file_extension": ".py",
   "mimetype": "text/x-python",
   "name": "python",
   "nbconvert_exporter": "python",
   "pygments_lexer": "ipython3",
   "version": "3.7.0"
  }
 },
 "nbformat": 4,
 "nbformat_minor": 5
}
