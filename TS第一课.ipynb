{
 "cells": [
  {
   "cell_type": "code",
   "execution_count": 80,
   "metadata": {},
   "outputs": [],
   "source": [
    "import numpy as np\n",
    "import h5py\n",
    "import tensorflow.compat.v1 as tf \n",
    "from tensorflow.python.framework import ops\n",
    "tf.disable_v2_behavior()\n",
    "import tf_utils\n",
    "import time\n",
    "import matplotlib.pyplot as plt"
   ]
  },
  {
   "cell_type": "code",
   "execution_count": 97,
   "metadata": {},
   "outputs": [
    {
     "name": "stdout",
     "output_type": "stream",
     "text": [
      "Y = 1\n",
      "训练集样本数 = 1080\n",
      "测试集样本数 = 120\n",
      "X_train.shape: (12288, 1080)\n",
      "Y_train.shape: (6, 1080)\n",
      "X_test.shape: (12288, 120)\n",
      "Y_test.shape: (6, 120)\n"
     ]
    },
    {
     "data": {
      "image/png": "[encoded data removed]",
      "text/plain": [
       "<Figure size 432x288 with 1 Axes>"
      ]
     },
     "metadata": {
      "needs_background": "light"
     },
     "output_type": "display_data"
    }
   ],
   "source": [
    "X_train_orig , Y_train_orig , X_test_orig , Y_test_orig , classes = tf_utils.load_dataset()\n",
    "index = 11\n",
    "plt.imshow(X_train_orig[index])\n",
    "print(\"Y = \" + str(np.squeeze(Y_train_orig[:,index])))\n",
    "X_train_flatten = X_train_orig.reshape(X_train_orig.shape[0],-1).T #每一列就是一个样本\n",
    "X_test_flatten = X_test_orig.reshape(X_test_orig.shape[0],-1).T\n",
    "\n",
    "#归一化数据\n",
    "X_train = X_train_flatten / 255\n",
    "X_test = X_test_flatten / 255\n",
    "\n",
    "#转换为独热矩阵\n",
    "Y_train = tf_utils.convert_to_one_hot(Y_train_orig,6)\n",
    "Y_test = tf_utils.convert_to_one_hot(Y_test_orig,6)\n",
    "\n",
    "print(\"训练集样本数 = \" + str(X_train.shape[1]))\n",
    "print(\"测试集样本数 = \" + str(X_test.shape[1]))\n",
    "print(\"X_train.shape: \" + str(X_train.shape))\n",
    "print(\"Y_train.shape: \" + str(Y_train.shape))\n",
    "print(\"X_test.shape: \" + str(X_test.shape))\n",
    "print(\"Y_test.shape: \" + str(Y_test.shape))"
   ]
  },
  {
   "cell_type": "code",
   "execution_count": 105,
   "metadata": {},
   "outputs": [],
   "source": [
    "def create_placeholders(n_x,n_y):\n",
    "    \"\"\"\n",
    "    为TensorFlow会话创建占位符\n",
    "    参数：\n",
    "        n_x - 一个实数，图片向量的大小（64*64*3 = 12288）\n",
    "        n_y - 一个实数，分类数（从0到5，所以n_y = 6）\n",
    "    \n",
    "    返回：\n",
    "        X - 一个数据输入的占位符，维度为[n_x, None]，dtype = \"float\"\n",
    "        Y - 一个对应输入的标签的占位符，维度为[n_Y,None]，dtype = \"float\"\n",
    "    \n",
    "    提示：\n",
    "        使用None，因为它让我们可以灵活处理占位符提供的样本数量。事实上，测试/训练期间的样本数量是不同的。\n",
    "    \n",
    "    \"\"\"\n",
    "    \n",
    "    X = tf.placeholder(tf.float32, [n_x, None], name=\"X\")\n",
    "    Y = tf.placeholder(tf.float32, [n_y, None], name=\"Y\")\n",
    "    \n",
    "    return X, Y"
   ]
  },
  {
   "cell_type": "code",
   "execution_count": 112,
   "metadata": {},
   "outputs": [],
   "source": [
    "def initialize_parameters():\n",
    "    \"\"\"\n",
    "    初始化神经网络的参数，参数的维度如下：\n",
    "        W1 : [25, 12288]\n",
    "        b1 : [25, 1]\n",
    "        W2 : [12, 25]\n",
    "        b2 : [12, 1]\n",
    "        W3 : [6, 12]\n",
    "        b3 : [6, 1]\n",
    "    \n",
    "    返回：\n",
    "        parameters - 包含了W和b的字典\n",
    "    \n",
    "    \n",
    "    \"\"\"\n",
    "    tf.set_random_seed(1)\n",
    "    \n",
    "    W1 = tf.get_variable(\"W1\",[25,12288],initializer = tf.glorot_uniform_initializer(seed=1))\n",
    "    b1 = tf.get_variable(\"b1\",[25,1],initializer=tf.zeros_initializer())\n",
    "    W2 = tf.get_variable(\"W2\", [12, 25], initializer = tf.glorot_uniform_initializer(seed=1))\n",
    "    b2 = tf.get_variable(\"b2\", [12, 1], initializer = tf.zeros_initializer())\n",
    "    W3 = tf.get_variable(\"W3\", [6, 12], initializer = tf.glorot_uniform_initializer(seed=1))\n",
    "    b3 = tf.get_variable(\"b3\", [6, 1], initializer = tf.zeros_initializer())\n",
    "    \n",
    "    parameters = {\"W1\": W1,\n",
    "                  \"b1\": b1,\n",
    "                  \"W2\": W2,\n",
    "                  \"b2\": b2,\n",
    "                  \"W3\": W3,\n",
    "                  \"b3\": b3}\n",
    "\n",
    "    return parameters"
   ]
  },
  {
   "cell_type": "code",
   "execution_count": 125,
   "metadata": {},
   "outputs": [],
   "source": [
    "def forward_propagation(X,parameters):\n",
    "    \"\"\"\n",
    "    实现一个模型的前向传播，模型结构为LINEAR -> RELU -> LINEAR -> RELU -> LINEAR -> SOFTMAX\n",
    "    \n",
    "    参数：\n",
    "        X - 输入数据的占位符，维度为（输入节点数量，样本数量）\n",
    "        parameters - 包含了W和b的参数的字典\n",
    "    \n",
    "    返回：\n",
    "        Z3 - 最后一个LINEAR节点的输出\n",
    "    \n",
    "    \"\"\"\n",
    "    \n",
    "    W1 = parameters['W1']\n",
    "    b1 = parameters['b1']\n",
    "    W2 = parameters['W2']\n",
    "    b2 = parameters['b2']\n",
    "    W3 = parameters['W3']\n",
    "    b3 = parameters['b3']\n",
    "    \n",
    "    #Z1 = tf.add(tf.matmul(W1,X),b1)        # Z1 = np.dot(W1, X) + b1\n",
    "    Z1 = tf.matmul(W1,X) + b1             #也可以这样写\n",
    "    A1 = tf.nn.relu(Z1)                    # A1 = relu(Z1)\n",
    "    #Z2 = tf.add(tf.matmul(W2, A1), b2)     # Z2 = np.dot(W2, a1) + b2\n",
    "    Z2 = tf.matmul(W2,A1) + b2\n",
    "    A2 = tf.nn.relu(Z2)                    # A2 = relu(Z2)\n",
    "    #Z3 = tf.add(tf.matmul(W3, A2), b3)     # Z3 = np.dot(W3,Z2) + b3\n",
    "    Z3 = tf.matmul(W3,A2) + b3\n",
    "    \n",
    "    \n",
    "    return Z3"
   ]
  },
  {
   "cell_type": "code",
   "execution_count": 126,
   "metadata": {},
   "outputs": [],
   "source": [
    "def compute_cost(Z3,Y):\n",
    "    \"\"\"\n",
    "    计算成本\n",
    "    \n",
    "    参数：\n",
    "        Z3 - 前向传播的结果\n",
    "        Y - 标签，一个占位符，和Z3的维度相同\n",
    "        \n",
    "    返回：\n",
    "        cost - 成本值\n",
    "    \n",
    "    \n",
    "    \"\"\"\n",
    "    logits = tf.transpose(Z3) #转置\n",
    "    labels = tf.transpose(Y)  #转置\n",
    "    \n",
    "    cost = tf.reduce_mean(tf.nn.softmax_cross_entropy_with_logits(logits=logits,labels=labels))\n",
    "    \n",
    "    return cost"
   ]
  },
  {
   "cell_type": "code",
   "execution_count": 129,
   "metadata": {},
   "outputs": [],
   "source": [
    "def model(X_train,Y_train,X_test,Y_test,\n",
    "\t\tlearning_rate=0.0001,num_epochs=1500,minibatch_size=64,\n",
    "\t\tprint_cost=True,is_plot=True):\n",
    "    \"\"\"\n",
    "    实现一个三层的TensorFlow神经网络：LINEAR->RELU->LINEAR->RELU->LINEAR->SOFTMAX\n",
    "    \n",
    "    参数：\n",
    "        X_train - 训练集，维度为（输入大小（输入节点数量） = 12288, 样本数量 = 1080）\n",
    "        Y_train - 训练集分类数量，维度为（输出大小(输出节点数量) = 6, 样本数量 = 1080）\n",
    "        X_test - 测试集，维度为（输入大小（输入节点数量） = 12288, 样本数量 = 120）\n",
    "        Y_test - 测试集分类数量，维度为（输出大小(输出节点数量) = 6, 样本数量 = 120）\n",
    "        learning_rate - 学习速率\n",
    "        num_epochs - 整个训练集的遍历次数\n",
    "        mini_batch_size - 每个小批量数据集的大小\n",
    "        print_cost - 是否打印成本，每100代打印一次\n",
    "        is_plot - 是否绘制曲线图\n",
    "    \n",
    "    返回：\n",
    "        parameters - 学习后的参数\n",
    "\n",
    "    \"\"\"\n",
    "    ops.reset_default_graph()                #能够重新运行模型而不覆盖tf变量\n",
    "    tf.set_random_seed(1)\n",
    "    seed = 3\n",
    "    (n_x , m)  = X_train.shape               #获取输入节点数量和样本数\n",
    "    n_y = Y_train.shape[0]                   #获取输出节点数量\n",
    "    costs = []                               #成本集\n",
    "    \n",
    "    #给X, Y 创建placeholder\n",
    "    X, Y = create_placeholders(n_x, n_y)\n",
    "    \n",
    "    #初始化参数\n",
    "    parameters = initialize_parameters()\n",
    "    \n",
    "    #前向传播\n",
    "    Z3 = forward_propagation(X,parameters)\n",
    "    \n",
    "    #计算成本\n",
    "    cost = compute_cost(Z3,Y)\n",
    "    \n",
    "    #反向传播，使用Adam优化\n",
    "    optimizer = tf.train.AdamOptimizer(learning_rate=learning_rate).minimize(cost)\n",
    "    \n",
    "    #初始化所有的变量\n",
    "    init = tf.global_variables_initializer()\n",
    "    \n",
    "    #开始会话并计算\n",
    "    with tf.Session() as sess:\n",
    "        #初始化\n",
    "        sess.run(init)\n",
    "        \n",
    "        #训练的循环\n",
    "        for epoch in range(num_epochs):\n",
    "            \n",
    "            epoch_cost = 0 #每代的成本\n",
    "            num_minibatches = int(m / minibatch_size)\n",
    "            seed = seed + 1\n",
    "            minibatches = tf_utils.random_mini_batches(X_train,Y_train,minibatch_size,seed)\n",
    "            \n",
    "            for minibatch in minibatches:\n",
    "                #选择一个minibatch\n",
    "                (minibatch_X,minibatch_Y) = minibatch\n",
    "                \n",
    "                #数据已经准备好了，开始运行session\n",
    "                _ , minibatch_cost = sess.run([optimizer,cost],feed_dict={X:minibatch_X,Y:minibatch_Y})\n",
    "                \n",
    "                #计算这个minibatch在这一代中所占的误差\n",
    "                epoch_cost = epoch_cost + minibatch_cost / num_minibatches\n",
    "                \n",
    "            #记录成本\n",
    "            if epoch % 5 == 0:\n",
    "                costs.append(epoch_cost)\n",
    "                #是否打印\n",
    "                if print_cost and epoch % 100 == 0:\n",
    "                    print(\"epoch = \" + str(epoch) + \"   epoch_cost = \" + str(epoch_cost))\n",
    "        if is_plot:\n",
    "            plt.plot(np.squeeze(costs))\n",
    "            plt.ylabel('cost')\n",
    "            plt.xlabel('iterations (per tens)')\n",
    "            plt.title(\"Learning rate =\" + str(learning_rate))\n",
    "            plt.show()\n",
    "        \n",
    "        #保存学习后的参数\n",
    "        parameters = sess.run(parameters)\n",
    "        print(\"参数已经保存至session.\")\n",
    "        \n",
    "        #计算当前的预测结果\n",
    "        correct_prediction = tf.equal(tf.argmax(Z3),tf.argmax(Y))\n",
    "        \n",
    "        #计算精准率\n",
    "        accuracy = tf.reduce_mean(tf.cast(correct_prediction,\"float\"))\n",
    "        \n",
    "        print(\"训练集的准确率: \", accuracy.eval({X:X_train,Y:Y_train}))\n",
    "        print(\"测试集的准确率: \", accuracy.eval({X:X_test,Y:Y_test}))\n",
    "    \n",
    "        return parameters"
   ]
  },
  {
   "cell_type": "code",
   "execution_count": 130,
   "metadata": {
    "scrolled": true
   },
   "outputs": [
    {
     "name": "stderr",
     "output_type": "stream",
     "text": [
      "C:\\Users\\ersac\\AppData\\Local\\conda\\conda\\envs\\tensorflow\\lib\\site-packages\\ipykernel_launcher.py:2: DeprecationWarning: time.clock has been deprecated in Python 3.3 and will be removed from Python 3.8: use time.perf_counter or time.process_time instead\n",
      "  \n"
     ]
    },
    {
     "name": "stdout",
     "output_type": "stream",
     "text": [
      "epoch = 0   epoch_cost = 1.899366021156311\n",
      "epoch = 100   epoch_cost = 1.1781471595168114\n",
      "epoch = 200   epoch_cost = 0.7426812462508678\n",
      "epoch = 300   epoch_cost = 0.48800497502088547\n",
      "epoch = 400   epoch_cost = 0.33345762081444263\n",
      "epoch = 500   epoch_cost = 0.23194941598922014\n",
      "epoch = 600   epoch_cost = 0.1501698223873973\n",
      "epoch = 700   epoch_cost = 0.1016568245831877\n",
      "epoch = 800   epoch_cost = 0.06709859380498528\n",
      "epoch = 900   epoch_cost = 0.04474988381844014\n",
      "epoch = 1000   epoch_cost = 0.029049357282929122\n",
      "epoch = 1100   epoch_cost = 0.01817315531661734\n",
      "epoch = 1200   epoch_cost = 0.011519756313646212\n",
      "epoch = 1300   epoch_cost = 0.00730187157751061\n",
      "epoch = 1400   epoch_cost = 0.003870443906635046\n"
     ]
    },
    {
     "data": {
      "image/png": "[encoded data removed]",
      "text/plain": [
       "<Figure size 432x288 with 1 Axes>"
      ]
     },
     "metadata": {
      "needs_background": "light"
     },
     "output_type": "display_data"
    },
    {
     "name": "stdout",
     "output_type": "stream",
     "text": [
      "参数已经保存至session.\n",
      "训练集的准确率:  1.0\n",
      "测试集的准确率:  0.8833333\n",
      "CPU的执行时间 = 261.3988004000057 秒\n"
     ]
    },
    {
     "name": "stderr",
     "output_type": "stream",
     "text": [
      "C:\\Users\\ersac\\AppData\\Local\\conda\\conda\\envs\\tensorflow\\lib\\site-packages\\ipykernel_launcher.py:6: DeprecationWarning: time.clock has been deprecated in Python 3.3 and will be removed from Python 3.8: use time.perf_counter or time.process_time instead\n",
      "  \n"
     ]
    }
   ],
   "source": [
    "#开始时间\n",
    "start_time = time.clock()\n",
    "#开始训练\n",
    "parameters = model(X_train, Y_train, X_test, Y_test)\n",
    "#结束时间\n",
    "end_time = time.clock()\n",
    "#计算时差\n",
    "print(\"CPU的执行时间 = \" + str(end_time - start_time) + \" 秒\" )"
   ]
  }
 ],
 "metadata": {
  "kernelspec": {
   "display_name": "Python 3",
   "language": "python",
   "name": "python3"
  },
  "language_info": {
   "codemirror_mode": {
    "name": "ipython",
    "version": 3
   },
   "file_extension": ".py",
   "mimetype": "text/x-python",
   "name": "python",
   "nbconvert_exporter": "python",
   "pygments_lexer": "ipython3",
   "version": "3.7.0"
  }
 },
 "nbformat": 4,
 "nbformat_minor": 2
}
